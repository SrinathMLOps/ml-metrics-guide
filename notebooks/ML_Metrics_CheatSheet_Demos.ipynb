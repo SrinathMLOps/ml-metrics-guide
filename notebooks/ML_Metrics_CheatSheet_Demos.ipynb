{
 "cells": [
  {
   "cell_type": "markdown",
   "id": "10a9b9e2",
   "metadata": {},
   "source": [
    "# ML Metrics Cheat Sheet & Demos\n",
    "This notebook demonstrates **classification, regression, clustering, and recommendation** metrics with concise code.\n",
    "Run cells top-to-bottom."
   ]
  },
  {
   "cell_type": "code",
   "execution_count": null,
   "id": "84456fc6",
   "metadata": {},
   "outputs": [],
   "source": [
    "\n",
    "import numpy as np\n",
    "import pandas as pd\n",
    "from sklearn.datasets import make_classification, make_regression, make_blobs\n",
    "from sklearn.model_selection import train_test_split\n",
    "from sklearn.linear_model import LogisticRegression, LinearRegression\n",
    "from sklearn.metrics import (accuracy_score, precision_score, recall_score, f1_score, roc_curve, roc_auc_score,\n",
    "                             confusion_matrix, mean_absolute_error, mean_squared_error, r2_score,\n",
    "                             silhouette_score, davies_bouldin_score)\n",
    "from sklearn.cluster import KMeans\n",
    "import matplotlib.pyplot as plt\n",
    "np.random.seed(42)\n"
   ]
  },
  {
   "cell_type": "markdown",
   "id": "b18b7525",
   "metadata": {},
   "source": [
    "## 1) Classification Metrics"
   ]
  },
  {
   "cell_type": "code",
   "execution_count": null,
   "id": "74137e15",
   "metadata": {},
   "outputs": [],
   "source": [
    "\n",
    "X, y = make_classification(n_samples=1000, n_features=10, n_informative=6, weights=[0.7,0.3], random_state=42)\n",
    "X_train, X_test, y_train, y_test = train_test_split(X, y, test_size=0.3, random_state=42)\n",
    "\n",
    "clf = LogisticRegression(max_iter=1000)\n",
    "clf.fit(X_train, y_train)\n",
    "\n",
    "y_prob = clf.predict_proba(X_test)[:,1]\n",
    "y_pred = (y_prob >= 0.5).astype(int)\n",
    "\n",
    "print(\"Accuracy:\", accuracy_score(y_test, y_pred))\n",
    "print(\"Precision:\", precision_score(y_test, y_pred))\n",
    "print(\"Recall:\", recall_score(y_test, y_pred))\n",
    "print(\"F1:\", f1_score(y_test, y_pred))\n",
    "print(\"ROC-AUC:\", roc_auc_score(y_test, y_prob))\n",
    "print(\"Confusion Matrix:\\n\", confusion_matrix(y_test, y_pred))\n"
   ]
  },
  {
   "cell_type": "code",
   "execution_count": null,
   "id": "1e0e7ca7",
   "metadata": {},
   "outputs": [],
   "source": [
    "\n",
    "fpr, tpr, _ = roc_curve(y_test, y_prob)\n",
    "plt.plot(fpr, tpr, label=\"ROC\")\n",
    "plt.plot([0,1],[0,1],'--')\n",
    "plt.xlabel(\"False Positive Rate\"); plt.ylabel(\"True Positive Rate\")\n",
    "plt.title(\"ROC Curve\"); plt.legend(); plt.show()\n"
   ]
  },
  {
   "cell_type": "markdown",
   "id": "77240c41",
   "metadata": {},
   "source": [
    "## 2) Regression Metrics"
   ]
  },
  {
   "cell_type": "code",
   "execution_count": null,
   "id": "ab9d38bf",
   "metadata": {},
   "outputs": [],
   "source": [
    "\n",
    "Xr, yr = make_regression(n_samples=800, n_features=5, noise=10.0, random_state=42)\n",
    "Xr_train, Xr_test, yr_train, yr_test = train_test_split(Xr, yr, test_size=0.3, random_state=42)\n",
    "\n",
    "reg = LinearRegression().fit(Xr_train, yr_train)\n",
    "yr_pred = reg.predict(Xr_test)\n",
    "\n",
    "print(\"MAE:\", mean_absolute_error(yr_test, yr_pred))\n",
    "print(\"MSE:\", mean_squared_error(yr_test, yr_pred))\n",
    "print(\"RMSE:\", np.sqrt(mean_squared_error(yr_test, yr_pred)))\n",
    "print(\"R^2:\", r2_score(yr_test, yr_pred))\n"
   ]
  },
  {
   "cell_type": "markdown",
   "id": "ce1ed663",
   "metadata": {},
   "source": [
    "## 3) Clustering Metrics"
   ]
  },
  {
   "cell_type": "code",
   "execution_count": null,
   "id": "0fe687a5",
   "metadata": {},
   "outputs": [],
   "source": [
    "\n",
    "Xc, _ = make_blobs(n_samples=500, centers=3, cluster_std=0.7, random_state=42)\n",
    "labels = KMeans(n_clusters=3, n_init=10, random_state=42).fit_predict(Xc)\n",
    "\n",
    "print(\"Silhouette Score:\", silhouette_score(Xc, labels))\n",
    "print(\"Davies-Bouldin Index:\", davies_bouldin_score(Xc, labels))\n"
   ]
  },
  {
   "cell_type": "markdown",
   "id": "c9dba7ce",
   "metadata": {},
   "source": [
    "## 4) Recommendation Metrics"
   ]
  },
  {
   "cell_type": "code",
   "execution_count": null,
   "id": "dc5797c8",
   "metadata": {},
   "outputs": [],
   "source": [
    "\n",
    "rng = np.random.default_rng(42)\n",
    "n_users, n_items = 5, 20\n",
    "relevance = (rng.random((n_users, n_items)) < 0.25).astype(int)\n",
    "scores = rng.normal(size=(n_users, n_items))\n",
    "\n",
    "def precision_at_k(rel, score, k=5):\n",
    "    idx = np.argsort(-score)[:k]\n",
    "    return rel[idx].sum()/k\n",
    "\n",
    "def recall_at_k(rel, score, k=5):\n",
    "    idx = np.argsort(-score)[:k]\n",
    "    total_rel = rel.sum()\n",
    "    return rel[idx].sum()/total_rel if total_rel>0 else 0\n",
    "\n",
    "for K in [3,5,10]:\n",
    "    precs = [precision_at_k(relevance[u], scores[u], K) for u in range(n_users)]\n",
    "    recs  = [recall_at_k(relevance[u], scores[u], K) for u in range(n_users)]\n",
    "    print(f\"K={K} Precision@K={np.mean(precs):.3f}, Recall@K={np.mean(recs):.3f}\")\n"
   ]
  },
  {
   "cell_type": "markdown",
   "id": "eed4c5f9",
   "metadata": {},
   "source": [
    "### Cheat Sheet Formulas"
   ]
  },
  {
   "cell_type": "markdown",
   "id": "e4024902",
   "metadata": {},
   "source": [
    "\n",
    "**Classification**  \n",
    "- Accuracy = (TP+TN)/(TP+TN+FP+FN)  \n",
    "- Precision = TP/(TP+FP)  \n",
    "- Recall = TP/(TP+FN)  \n",
    "- F1 = 2·(Precision·Recall)/(Precision+Recall)  \n",
    "- ROC-AUC = Area under ROC (TPR vs FPR)  \n",
    "\n",
    "**Regression**  \n",
    "- MAE = (1/n) Σ |y−ŷ|  \n",
    "- MSE = (1/n) Σ (y−ŷ)²  \n",
    "- RMSE = √MSE  \n",
    "- R² = 1 − SS_res/SS_tot  \n",
    "\n",
    "**Clustering**  \n",
    "- Silhouette = (b−a)/max(a,b)  \n",
    "- Davies–Bouldin = avg similarity measure (lower better)  \n",
    "\n",
    "**Recommendation**  \n",
    "- Precision@K = #relevant@K / K  \n",
    "- Recall@K = #relevant@K / #all_relevant  \n"
   ]
  }
 ],
 "metadata": {},
 "nbformat": 4,
 "nbformat_minor": 5
}
